{
 "cells": [
  {
   "cell_type": "code",
   "execution_count": 1,
   "metadata": {},
   "outputs": [],
   "source": [
    "from selenium import webdriver\n",
    "from selenium.webdriver.common.by import By\n",
    "from selenium.webdriver.support.ui import WebDriverWait\n",
    "from selenium.webdriver.common.keys import Keys\n",
    "from selenium.webdriver.common.action_chains import ActionChains\n",
    "from selenium.webdriver.support.ui import WebDriverWait\n",
    "from selenium.webdriver.support import expected_conditions as ec\n",
    "from selenium.common.exceptions import NoSuchElementException\n",
    "from selenium.common.exceptions import StaleElementReferenceException\n",
    "import re, time, tldextract, random, csv, json\n",
    "from datetime import datetime, timezone\n",
    "from tqdm import tqdm\n",
    "import pandas as pd"
   ]
  },
  {
   "cell_type": "code",
   "execution_count": 2,
   "metadata": {},
   "outputs": [],
   "source": [
    "ignored_exceptions = (NoSuchElementException,StaleElementReferenceException,)\n",
    "\n",
    "options = webdriver.ChromeOptions()\n",
    "options.add_argument('window-size=1366x768')\n",
    "options.add_argument('--disable-gpu')\n",
    "options.add_argument('--no-sandbox')\n",
    "options.add_argument('ignore-certificate-errors')\n",
    "options.add_argument('--allow-running-insecure-content')\n",
    "\n",
    "# Uncomment below option, if you want chromedriver in headless mode (run in background).\n",
    "# options.add_argument(\"--headless\")\n",
    "\n",
    "driver = webdriver.Chrome(options=options)\n",
    "action = ActionChains(driver)"
   ]
  },
  {
   "cell_type": "code",
   "execution_count": 3,
   "metadata": {},
   "outputs": [],
   "source": [
    "url = \"https://maxwellbaynes.com/for-sale/?keyword=&property_subtype=&area=&sort-order=price-desc&price_min=500000&price_max=5000000&size_min=50&size_max=500&offset=12&curr_lang=en\""
   ]
  },
  {
   "cell_type": "code",
   "execution_count": 4,
   "metadata": {},
   "outputs": [],
   "source": [
    "driver.get(url)"
   ]
  },
  {
   "cell_type": "code",
   "execution_count": 5,
   "metadata": {},
   "outputs": [
    {
     "data": {
      "text/plain": [
       "12"
      ]
     },
     "execution_count": 5,
     "metadata": {},
     "output_type": "execute_result"
    }
   ],
   "source": [
    "#get data details\n",
    "props = WebDriverWait(driver,random.randint(30,45),ignored_exceptions=ignored_exceptions).until(ec.visibility_of_element_located((By.CSS_SELECTOR,\"li.property\")))\n",
    "prop_list = driver.find_elements_by_class_name('property')\n",
    "len(prop_list)"
   ]
  },
  {
   "cell_type": "code",
   "execution_count": 6,
   "metadata": {},
   "outputs": [
    {
     "name": "stdout",
     "output_type": "stream",
     "text": [
      "load_more error: Message: \n",
      "\n"
     ]
    }
   ],
   "source": [
    "is_stop = 0\n",
    "while is_stop == 0:\n",
    "    try:\n",
    "        load_more = WebDriverWait(driver,random.randint(15,30),ignored_exceptions=ignored_exceptions).until(ec.visibility_of_element_located((By.ID,\"load-more\")))\n",
    "        action.move_to_element(load_more).perform()\n",
    "        time.sleep(random.randint(3,7))\n",
    "        load_more.click()\n",
    "    except Exception as err:\n",
    "        is_stop = 1\n",
    "        print(f\"load_more error: {err}\")\n",
    "        break"
   ]
  },
  {
   "cell_type": "code",
   "execution_count": 7,
   "metadata": {},
   "outputs": [
    {
     "data": {
      "text/plain": [
       "168"
      ]
     },
     "execution_count": 7,
     "metadata": {},
     "output_type": "execute_result"
    }
   ],
   "source": [
    "prop_list = driver.find_elements_by_class_name('property')\n",
    "len(prop_list)"
   ]
  },
  {
   "cell_type": "code",
   "execution_count": 8,
   "metadata": {},
   "outputs": [
    {
     "name": "stderr",
     "output_type": "stream",
     "text": [
      "Grab property details: 100%|█████████████| 168/168 [00:20<00:00,  8.14it/s]"
     ]
    },
    {
     "name": "stdout",
     "output_type": "stream",
     "text": [
      " \n",
      "168\n"
     ]
    },
    {
     "name": "stderr",
     "output_type": "stream",
     "text": [
      "\n"
     ]
    }
   ],
   "source": [
    "prop_list_details = []\n",
    "\n",
    "for num in tqdm(range(len(prop_list)),ncols=75,desc=\"Grab property details\"):\n",
    "    detail = {}\n",
    "    \n",
    "    detail['scraped_date'] = datetime.now().strftime(\"%Y-%m-%d\")\n",
    "    try:\n",
    "        WebDriverWait(driver,random.randint(15,30),ignored_exceptions=ignored_exceptions).until(ec.presence_of_element_located((By.CSS_SELECTOR,\"h2\")))\n",
    "        detail['Title'] = prop_list[num].find_element_by_css_selector('h2').text\n",
    "    except Exception as err:\n",
    "        \"\"\n",
    "    \n",
    "    detail['Address'] = prop_list[num].find_element_by_css_selector('h6').text\n",
    "    price_txt = prop_list[num].find_element_by_class_name('prop-price').text\n",
    "    detail['Currency'] = price_txt[0]\n",
    "    detail['Price'] = int(re.sub(r'[^0-9]+', '', price_txt))\n",
    "    detail['detail_url'] = prop_list[num].find_element_by_css_selector('a').get_attribute('href')\n",
    "    detail['img_url'] = prop_list[num].get_attribute('style').replace('background-image: url(\"','').replace('\");','').strip()\n",
    "    prop_list_details.append(detail)\n",
    "print(\" \")\n",
    "print(len(prop_list_details))"
   ]
  },
  {
   "cell_type": "code",
   "execution_count": 9,
   "metadata": {},
   "outputs": [
    {
     "name": "stderr",
     "output_type": "stream",
     "text": [
      "\r",
      "Grab property details page:   0%|                  | 0/168 [00:00<?, ?it/s]"
     ]
    },
    {
     "name": "stdout",
     "output_type": "stream",
     "text": [
      "spec detail error: list index out of range\n"
     ]
    },
    {
     "name": "stderr",
     "output_type": "stream",
     "text": [
      "Grab property details page: 100%|████████| 168/168 [22:13<00:00,  7.94s/it]\n"
     ]
    }
   ],
   "source": [
    "# visit each property url detail and grab other details information\n",
    "for prop in tqdm(prop_list_details,ncols=75,desc=\"Grab property details page\"):\n",
    "    driver.get(prop['detail_url'])\n",
    "    \n",
    "    #Wait until desired element visible on page\n",
    "    WebDriverWait(driver,random.randint(18,45),ignored_exceptions=ignored_exceptions).until(ec.visibility_of_element_located((By.CSS_SELECTOR,\"div.prop-feature\")))\n",
    "    \n",
    "    # complete details: 'Property Area', 'Land Area', 'Rooms', 'Bedrooms', 'Bathrooms', 'Heating', 'Reference'.\n",
    "    for spec in driver.find_elements_by_class_name('prop-feature'):\n",
    "        spec_text = spec.text.split('\\n')\n",
    "        try:\n",
    "            prop[spec_text[1]] = spec_text[0]\n",
    "        except Exception as err:\n",
    "            print(f\"spec detail error: {err}\")\n",
    "    try:\n",
    "        #Wait until desired element visible on page\n",
    "        WebDriverWait(driver,random.randint(18,45),ignored_exceptions=ignored_exceptions).until(ec.visibility_of_element_located((By.CSS_SELECTOR,'div.mod-column-2')))\n",
    "        description = driver.find_element_by_class_name('mod-column-2')\n",
    "        prop['Description'] = description.text.replace('\\n',' ').replace('\\r',' ').strip()\n",
    "    except Exception as err:\n",
    "        prop['Description'] = \"\"\n",
    "    \n",
    "    #give delayed time before visiting next url\n",
    "    time.sleep(random.randint(2,4))"
   ]
  },
  {
   "cell_type": "code",
   "execution_count": 10,
   "metadata": {},
   "outputs": [],
   "source": [
    "prop_list_details_new = []\n",
    "\n",
    "'scraped_date','Title','Address','Currency','Price','Property Area','Land Area','Total Area','Rooms','Bedrooms','Bathrooms','Heating','Reference','img_url','detail_url'\n",
    "\n",
    "for k1 in prop_list_details:\n",
    "    new_dict = {}\n",
    "    new_dict['scraped_date'] = k1['scraped_date']\n",
    "    new_dict['Title'] = k1['Title']\n",
    "    new_dict['Address'] = k1['Address']\n",
    "    new_dict['Currency'] = k1['Currency']\n",
    "    new_dict['Price'] = k1['Price']\n",
    "    new_dict['detail_url'] = k1['detail_url']\n",
    "    new_dict['img_url'] = k1['img_url']\n",
    "\n",
    "    if 'Property Area' in k1: new_dict['Property Area'] = k1['Property Area']\n",
    "    else: new_dict['Property Area'] = \"\"\n",
    "\n",
    "    if 'Land Area' in k1: new_dict['Land Area'] = k1['Land Area']\n",
    "    else: new_dict['Land Area'] = \"\"\n",
    "\n",
    "    if 'Property Area' in k1: new_dict['Property Area'] = k1['Property Area']\n",
    "    else: new_dict['Property Area'] = \"\"\n",
    "\n",
    "    if 'Total Area' in k1: new_dict['Total Area'] = k1['Total Area']\n",
    "    else: new_dict['Total Area'] = \"\"\n",
    "\n",
    "    if 'Rooms' in k1: new_dict['Rooms'] = k1['Rooms']\n",
    "    else: new_dict['Rooms'] = \"\"\n",
    "\n",
    "    if 'Bedrooms' in k1: new_dict['Bedrooms'] = k1['Bedrooms']\n",
    "    else: new_dict['Bedrooms'] = \"\"\n",
    "\n",
    "    if 'Bathrooms' in k1: new_dict['Bathrooms'] = k1['Bathrooms']\n",
    "    else: new_dict['Bathrooms'] = \"\"\n",
    "\n",
    "    if 'Heating' in k1: new_dict['Heating'] = k1['Heating']\n",
    "    else: new_dict['Heating'] = \"\"\n",
    "\n",
    "    if 'Reference' in k1: new_dict['Reference'] = k1['Reference']\n",
    "    else: new_dict['Reference'] = \"\"\n",
    "\n",
    "    new_dict['Description'] = k1['Description']\n",
    "    \n",
    "    prop_list_details_new.append(new_dict)\n",
    "    \n",
    "# Save all parsed property_details to JSON file with today date\n",
    "date_now = datetime.now().strftime(\"%Y-%m-%d_%H-%M\")\n",
    "with open(f'{date_now}_maxwellbaynes_properties.json', 'w') as fp:\n",
    "    # json.dump(prop_list_details_new, fp, indent=4, ensure_ascii=False)\n",
    "    json.dump(prop_list_details_new, fp, indent=4)"
   ]
  },
  {
   "cell_type": "code",
   "execution_count": 11,
   "metadata": {},
   "outputs": [],
   "source": [
    "# To CSV file\n",
    "df = pd.DataFrame(prop_list_details)\n",
    "columns = ['scraped_date','Title','Address','Currency','Price','Property Area','Land Area','Total Area','Rooms','Bedrooms','Bathrooms','Heating','Reference','img_url','detail_url','Description']\n",
    "# columns = ['scraped_date','Title','Address','Price','Property Area','Land Area','Total Area','Rooms','Bedrooms','Bathrooms','Heating','Reference','img_url','detail_url','Description']\n",
    "df.to_csv('maxwellbaynes_properties.csv', columns=columns,index=False, mode='a', header=False)"
   ]
  },
  {
   "cell_type": "code",
   "execution_count": 13,
   "metadata": {},
   "outputs": [],
   "source": [
    "driver.quit()"
   ]
  },
  {
   "cell_type": "code",
   "execution_count": null,
   "metadata": {},
   "outputs": [],
   "source": []
  }
 ],
 "metadata": {
  "kernelspec": {
   "display_name": "Python 3",
   "language": "python",
   "name": "python3"
  },
  "language_info": {
   "codemirror_mode": {
    "name": "ipython",
    "version": 3
   },
   "file_extension": ".py",
   "mimetype": "text/x-python",
   "name": "python",
   "nbconvert_exporter": "python",
   "pygments_lexer": "ipython3",
   "version": "3.7.6"
  }
 },
 "nbformat": 4,
 "nbformat_minor": 4
}
